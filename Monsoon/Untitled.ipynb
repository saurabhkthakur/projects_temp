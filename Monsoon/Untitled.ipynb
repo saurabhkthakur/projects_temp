{
 "cells": [
  {
   "cell_type": "code",
   "execution_count": 1,
   "id": "e29d88d5",
   "metadata": {},
   "outputs": [],
   "source": [
    "import pandas as pd\n",
    "import numpy as np\n",
    "import matplotlib.pyplot as plt\n"
   ]
  },
  {
   "cell_type": "code",
   "execution_count": 2,
   "id": "8fc43407",
   "metadata": {},
   "outputs": [],
   "source": [
    "import os\n"
   ]
  },
  {
   "cell_type": "code",
   "execution_count": 12,
   "id": "c44c9e1f",
   "metadata": {},
   "outputs": [
    {
     "data": {
      "text/plain": [
       "['X_train.csv', 'y_train.csv']"
      ]
     },
     "execution_count": 12,
     "metadata": {},
     "output_type": "execute_result"
    }
   ],
   "source": [
    "os.listdir()"
   ]
  },
  {
   "cell_type": "code",
   "execution_count": 11,
   "id": "1e0640b6",
   "metadata": {},
   "outputs": [
    {
     "name": "stdout",
     "output_type": "stream",
     "text": [
      "C:\\Users\\thaku\\Desktop\\Monsoon\\DS TEST\\Training\n"
     ]
    }
   ],
   "source": [
    "cd Training"
   ]
  },
  {
   "cell_type": "code",
   "execution_count": 18,
   "id": "a40db37b",
   "metadata": {},
   "outputs": [],
   "source": [
    "x_train_dir = r'C:\\Users\\thaku\\Desktop\\Monsoon\\DS TEST\\Training\\X_train.csv'\n",
    "y_train_dir =r'C:\\Users\\thaku\\Desktop\\Monsoon\\DS TEST\\Training\\y_train.csv'"
   ]
  },
  {
   "cell_type": "code",
   "execution_count": 19,
   "id": "8b88564f",
   "metadata": {},
   "outputs": [
    {
     "data": {
      "text/html": [
       "<div>\n",
       "<style scoped>\n",
       "    .dataframe tbody tr th:only-of-type {\n",
       "        vertical-align: middle;\n",
       "    }\n",
       "\n",
       "    .dataframe tbody tr th {\n",
       "        vertical-align: top;\n",
       "    }\n",
       "\n",
       "    .dataframe thead th {\n",
       "        text-align: right;\n",
       "    }\n",
       "</style>\n",
       "<table border=\"1\" class=\"dataframe\">\n",
       "  <thead>\n",
       "    <tr style=\"text-align: right;\">\n",
       "      <th></th>\n",
       "      <th>Unique_ID</th>\n",
       "      <th>C1</th>\n",
       "      <th>C2</th>\n",
       "      <th>C3</th>\n",
       "      <th>C4</th>\n",
       "      <th>C5</th>\n",
       "      <th>C6</th>\n",
       "      <th>C7</th>\n",
       "      <th>C8</th>\n",
       "      <th>N1</th>\n",
       "      <th>...</th>\n",
       "      <th>N26</th>\n",
       "      <th>N27</th>\n",
       "      <th>N28</th>\n",
       "      <th>N29</th>\n",
       "      <th>N30</th>\n",
       "      <th>N31</th>\n",
       "      <th>N32</th>\n",
       "      <th>N33</th>\n",
       "      <th>N34</th>\n",
       "      <th>N35</th>\n",
       "    </tr>\n",
       "  </thead>\n",
       "  <tbody>\n",
       "    <tr>\n",
       "      <th>0</th>\n",
       "      <td>Candidate_5926</td>\n",
       "      <td>1</td>\n",
       "      <td>0</td>\n",
       "      <td>11</td>\n",
       "      <td>31</td>\n",
       "      <td>0</td>\n",
       "      <td>False</td>\n",
       "      <td>0</td>\n",
       "      <td>True</td>\n",
       "      <td>23.75</td>\n",
       "      <td>...</td>\n",
       "      <td>NaN</td>\n",
       "      <td>NaN</td>\n",
       "      <td>NaN</td>\n",
       "      <td>NaN</td>\n",
       "      <td>NaN</td>\n",
       "      <td>NaN</td>\n",
       "      <td>NaN</td>\n",
       "      <td>58.0</td>\n",
       "      <td>113.39</td>\n",
       "      <td>12.0</td>\n",
       "    </tr>\n",
       "    <tr>\n",
       "      <th>1</th>\n",
       "      <td>Candidate_48134</td>\n",
       "      <td>1</td>\n",
       "      <td>4</td>\n",
       "      <td>2</td>\n",
       "      <td>66</td>\n",
       "      <td>2</td>\n",
       "      <td>False</td>\n",
       "      <td>1</td>\n",
       "      <td>True</td>\n",
       "      <td>11.05</td>\n",
       "      <td>...</td>\n",
       "      <td>NaN</td>\n",
       "      <td>NaN</td>\n",
       "      <td>NaN</td>\n",
       "      <td>NaN</td>\n",
       "      <td>NaN</td>\n",
       "      <td>NaN</td>\n",
       "      <td>NaN</td>\n",
       "      <td>160.0</td>\n",
       "      <td>262.10</td>\n",
       "      <td>17.0</td>\n",
       "    </tr>\n",
       "    <tr>\n",
       "      <th>2</th>\n",
       "      <td>Candidate_51717</td>\n",
       "      <td>1</td>\n",
       "      <td>0</td>\n",
       "      <td>19</td>\n",
       "      <td>2</td>\n",
       "      <td>0</td>\n",
       "      <td>False</td>\n",
       "      <td>0</td>\n",
       "      <td>True</td>\n",
       "      <td>29.00</td>\n",
       "      <td>...</td>\n",
       "      <td>NaN</td>\n",
       "      <td>NaN</td>\n",
       "      <td>NaN</td>\n",
       "      <td>NaN</td>\n",
       "      <td>NaN</td>\n",
       "      <td>NaN</td>\n",
       "      <td>NaN</td>\n",
       "      <td>24.0</td>\n",
       "      <td>50.29</td>\n",
       "      <td>18.0</td>\n",
       "    </tr>\n",
       "    <tr>\n",
       "      <th>3</th>\n",
       "      <td>Candidate_26401</td>\n",
       "      <td>1</td>\n",
       "      <td>1</td>\n",
       "      <td>16</td>\n",
       "      <td>47</td>\n",
       "      <td>1</td>\n",
       "      <td>False</td>\n",
       "      <td>4</td>\n",
       "      <td>True</td>\n",
       "      <td>17.99</td>\n",
       "      <td>...</td>\n",
       "      <td>NaN</td>\n",
       "      <td>NaN</td>\n",
       "      <td>NaN</td>\n",
       "      <td>NaN</td>\n",
       "      <td>NaN</td>\n",
       "      <td>NaN</td>\n",
       "      <td>NaN</td>\n",
       "      <td>70.0</td>\n",
       "      <td>126.52</td>\n",
       "      <td>27.0</td>\n",
       "    </tr>\n",
       "    <tr>\n",
       "      <th>4</th>\n",
       "      <td>Candidate_34872</td>\n",
       "      <td>1</td>\n",
       "      <td>1</td>\n",
       "      <td>13</td>\n",
       "      <td>1</td>\n",
       "      <td>1</td>\n",
       "      <td>True</td>\n",
       "      <td>6</td>\n",
       "      <td>True</td>\n",
       "      <td>27.50</td>\n",
       "      <td>...</td>\n",
       "      <td>NaN</td>\n",
       "      <td>NaN</td>\n",
       "      <td>NaN</td>\n",
       "      <td>NaN</td>\n",
       "      <td>NaN</td>\n",
       "      <td>NaN</td>\n",
       "      <td>NaN</td>\n",
       "      <td>100.0</td>\n",
       "      <td>205.47</td>\n",
       "      <td>21.0</td>\n",
       "    </tr>\n",
       "  </tbody>\n",
       "</table>\n",
       "<p>5 rows × 44 columns</p>\n",
       "</div>"
      ],
      "text/plain": [
       "         Unique_ID  C1  C2  C3  C4  C5     C6  C7    C8     N1  ...  N26  N27  \\\n",
       "0   Candidate_5926   1   0  11  31   0  False   0  True  23.75  ...  NaN  NaN   \n",
       "1  Candidate_48134   1   4   2  66   2  False   1  True  11.05  ...  NaN  NaN   \n",
       "2  Candidate_51717   1   0  19   2   0  False   0  True  29.00  ...  NaN  NaN   \n",
       "3  Candidate_26401   1   1  16  47   1  False   4  True  17.99  ...  NaN  NaN   \n",
       "4  Candidate_34872   1   1  13   1   1   True   6  True  27.50  ...  NaN  NaN   \n",
       "\n",
       "   N28  N29  N30  N31  N32    N33     N34   N35  \n",
       "0  NaN  NaN  NaN  NaN  NaN   58.0  113.39  12.0  \n",
       "1  NaN  NaN  NaN  NaN  NaN  160.0  262.10  17.0  \n",
       "2  NaN  NaN  NaN  NaN  NaN   24.0   50.29  18.0  \n",
       "3  NaN  NaN  NaN  NaN  NaN   70.0  126.52  27.0  \n",
       "4  NaN  NaN  NaN  NaN  NaN  100.0  205.47  21.0  \n",
       "\n",
       "[5 rows x 44 columns]"
      ]
     },
     "execution_count": 19,
     "metadata": {},
     "output_type": "execute_result"
    }
   ],
   "source": [
    "df = pd.read_csv(x_train_dir)\n",
    "df.head()"
   ]
  },
  {
   "cell_type": "code",
   "execution_count": 21,
   "id": "efd94960",
   "metadata": {},
   "outputs": [],
   "source": [
    "# Dataset\n",
    "# X_train\n",
    "# Unique_ID: Represent the Unique Identifier\n",
    "# C1 to C8: Represents Categorical Columns, which are already encoded into numeric representation\n",
    "# N1 to N35: Represent Numerical Columns\n",
    "# y_train\n",
    "# Unique_ID: Represent the Unique Identifier\n",
    "# Dependent_Variable: Represent the outcome or dependent variable\n"
   ]
  },
  {
   "cell_type": "code",
   "execution_count": 22,
   "id": "0cc3bd97",
   "metadata": {},
   "outputs": [
    {
     "data": {
      "text/html": [
       "<div>\n",
       "<style scoped>\n",
       "    .dataframe tbody tr th:only-of-type {\n",
       "        vertical-align: middle;\n",
       "    }\n",
       "\n",
       "    .dataframe tbody tr th {\n",
       "        vertical-align: top;\n",
       "    }\n",
       "\n",
       "    .dataframe thead th {\n",
       "        text-align: right;\n",
       "    }\n",
       "</style>\n",
       "<table border=\"1\" class=\"dataframe\">\n",
       "  <thead>\n",
       "    <tr style=\"text-align: right;\">\n",
       "      <th></th>\n",
       "      <th>Unique_ID</th>\n",
       "      <th>Dependent_Variable</th>\n",
       "    </tr>\n",
       "  </thead>\n",
       "  <tbody>\n",
       "    <tr>\n",
       "      <th>0</th>\n",
       "      <td>Candidate_5926</td>\n",
       "      <td>1</td>\n",
       "    </tr>\n",
       "    <tr>\n",
       "      <th>1</th>\n",
       "      <td>Candidate_48134</td>\n",
       "      <td>0</td>\n",
       "    </tr>\n",
       "    <tr>\n",
       "      <th>2</th>\n",
       "      <td>Candidate_51717</td>\n",
       "      <td>1</td>\n",
       "    </tr>\n",
       "    <tr>\n",
       "      <th>3</th>\n",
       "      <td>Candidate_26401</td>\n",
       "      <td>0</td>\n",
       "    </tr>\n",
       "    <tr>\n",
       "      <th>4</th>\n",
       "      <td>Candidate_34872</td>\n",
       "      <td>0</td>\n",
       "    </tr>\n",
       "  </tbody>\n",
       "</table>\n",
       "</div>"
      ],
      "text/plain": [
       "         Unique_ID  Dependent_Variable\n",
       "0   Candidate_5926                   1\n",
       "1  Candidate_48134                   0\n",
       "2  Candidate_51717                   1\n",
       "3  Candidate_26401                   0\n",
       "4  Candidate_34872                   0"
      ]
     },
     "execution_count": 22,
     "metadata": {},
     "output_type": "execute_result"
    }
   ],
   "source": [
    "y_df = pd.read_csv(y_train_dir)\n",
    "y_df.head()"
   ]
  },
  {
   "cell_type": "code",
   "execution_count": 23,
   "id": "bd6b853d",
   "metadata": {},
   "outputs": [
    {
     "data": {
      "text/plain": [
       "2"
      ]
     },
     "execution_count": 23,
     "metadata": {},
     "output_type": "execute_result"
    }
   ],
   "source": [
    "y_df['Dependent_Variable'].nunique()"
   ]
  },
  {
   "cell_type": "code",
   "execution_count": 48,
   "id": "46b9e11b",
   "metadata": {},
   "outputs": [
    {
     "data": {
      "text/plain": [
       "(0.3088048411497731, 0.691195158850227)"
      ]
     },
     "execution_count": 48,
     "metadata": {},
     "output_type": "execute_result"
    }
   ],
   "source": [
    "y_df[y_df['Dependent_Variable']==1].shape[0]/y_df.shape[0],  y_df[y_df['Dependent_Variable']==0].shape[0]/y_df.shape[0]"
   ]
  },
  {
   "cell_type": "code",
   "execution_count": null,
   "id": "b34c5b82",
   "metadata": {},
   "outputs": [],
   "source": [
    "BFSI Sector, GBT leaves as features\n",
    "https://towardsdatascience.com/next-better-player-gbdt-lr-for-binary-classification-f8dc6f32628e\n",
    "    "
   ]
  },
  {
   "cell_type": "code",
   "execution_count": 25,
   "id": "9e16083b",
   "metadata": {},
   "outputs": [
    {
     "name": "stdout",
     "output_type": "stream",
     "text": [
      "<class 'pandas.core.frame.DataFrame'>\n",
      "RangeIndex: 33050 entries, 0 to 33049\n",
      "Data columns (total 44 columns):\n",
      " #   Column     Non-Null Count  Dtype  \n",
      "---  ------     --------------  -----  \n",
      " 0   Unique_ID  33050 non-null  object \n",
      " 1   C1         33050 non-null  int64  \n",
      " 2   C2         33050 non-null  int64  \n",
      " 3   C3         33050 non-null  int64  \n",
      " 4   C4         33050 non-null  int64  \n",
      " 5   C5         33050 non-null  int64  \n",
      " 6   C6         33050 non-null  bool   \n",
      " 7   C7         33050 non-null  int64  \n",
      " 8   C8         33050 non-null  bool   \n",
      " 9   N1         33050 non-null  float64\n",
      " 10  N2         28438 non-null  float64\n",
      " 11  N3         32685 non-null  float64\n",
      " 12  N4         28444 non-null  float64\n",
      " 13  N5         28444 non-null  float64\n",
      " 14  N6         32685 non-null  float64\n",
      " 15  N7         32623 non-null  float64\n",
      " 16  N8         33050 non-null  int64  \n",
      " 17  N9         33050 non-null  int64  \n",
      " 18  N10        32623 non-null  float64\n",
      " 19  N10.1      32623 non-null  float64\n",
      " 20  N11        32334 non-null  float64\n",
      " 21  N12        28436 non-null  float64\n",
      " 22  N14        32442 non-null  float64\n",
      " 23  N15        32623 non-null  float64\n",
      " 24  N16        28444 non-null  float64\n",
      " 25  N17        28444 non-null  float64\n",
      " 26  N18        28444 non-null  float64\n",
      " 27  N19        28479 non-null  float64\n",
      " 28  N20        28479 non-null  float64\n",
      " 29  N21        28479 non-null  float64\n",
      " 30  N22        28479 non-null  float64\n",
      " 31  N23        30564 non-null  float64\n",
      " 32  N24        33050 non-null  float64\n",
      " 33  N25        6271 non-null   float64\n",
      " 34  N26        6271 non-null   float64\n",
      " 35  N27        6271 non-null   float64\n",
      " 36  N28        6271 non-null   float64\n",
      " 37  N29        6271 non-null   float64\n",
      " 38  N30        6271 non-null   float64\n",
      " 39  N31        6271 non-null   float64\n",
      " 40  N32        6220 non-null   float64\n",
      " 41  N33        33050 non-null  float64\n",
      " 42  N34        33050 non-null  float64\n",
      " 43  N35        32623 non-null  float64\n",
      "dtypes: bool(2), float64(33), int64(8), object(1)\n",
      "memory usage: 10.7+ MB\n"
     ]
    }
   ],
   "source": [
    "df.info()"
   ]
  },
  {
   "cell_type": "code",
   "execution_count": 27,
   "id": "e52b3806",
   "metadata": {},
   "outputs": [
    {
     "name": "stdout",
     "output_type": "stream",
     "text": [
      "C1 values is  [1 2 3]\n",
      "C2 values is  [ 0  4  1  6  3  9  2  7 11 13  5 18 15 14 19 16 20 12  8 10 17]\n",
      "C3 values is  [11  2 19 16 13 30 41 34 35 17  7  5  6  1  0 15  3 23 31 29 28 26  8 43\n",
      " 12  9  4 22 14 36 20 33 38 24 46 10 50 37 18 42 25 27 48 21 32 40 44 51\n",
      " 39 47 49 45]\n",
      "C4 values is  [31 66  2 47  1 13  0 17 35 10 11 12 15 50  4 16 18 19 61 41 14 62 27 42\n",
      "  5 29 26  6 28 32  9 38 20 58 40 37 30  7 55 46 57 48 60 59 23 43  8  3\n",
      " 34 54 22 25 33 39 24 52 63 36 21 64 44 45 51 49 53 65 56 67]\n",
      "C5 values is  [0 2 1 5 4 6 7 3]\n",
      "C6 values is  [False  True]\n",
      "C7 values is  [0 1 4 6 2 7 3 5]\n"
     ]
    }
   ],
   "source": [
    "print('C1 values is ',df['C1'].unique())\n",
    "print('C2 values is ',df['C2'].unique())\n",
    "print('C3 values is ',df['C3'].unique())\n",
    "print('C4 values is ',df['C4'].unique())\n",
    "print('C5 values is ',df['C5'].unique())\n",
    "print('C6 values is ',df['C6'].unique())\n",
    "print('C7 values is ',df['C7'].unique())"
   ]
  },
  {
   "cell_type": "code",
   "execution_count": 37,
   "id": "eb3753ff",
   "metadata": {},
   "outputs": [
    {
     "data": {
      "text/plain": [
       "numpy.ndarray"
      ]
     },
     "execution_count": 37,
     "metadata": {},
     "output_type": "execute_result"
    }
   ],
   "source": [
    "type(df['C2'].unique())"
   ]
  },
  {
   "cell_type": "code",
   "execution_count": 43,
   "id": "c20c834d",
   "metadata": {},
   "outputs": [
    {
     "data": {
      "text/plain": [
       "array([0, 1, 2, 3, 4, 5, 6, 7], dtype=int64)"
      ]
     },
     "execution_count": 43,
     "metadata": {},
     "output_type": "execute_result"
    }
   ],
   "source": [
    "np.sort(df['C7'].unique())"
   ]
  },
  {
   "cell_type": "code",
   "execution_count": null,
   "id": "06e4ca5b",
   "metadata": {},
   "outputs": [],
   "source": [
    "imbalance problem"
   ]
  }
 ],
 "metadata": {
  "kernelspec": {
   "display_name": "Python 3",
   "language": "python",
   "name": "python3"
  },
  "language_info": {
   "codemirror_mode": {
    "name": "ipython",
    "version": 3
   },
   "file_extension": ".py",
   "mimetype": "text/x-python",
   "name": "python",
   "nbconvert_exporter": "python",
   "pygments_lexer": "ipython3",
   "version": "3.7.4"
  }
 },
 "nbformat": 4,
 "nbformat_minor": 5
}
