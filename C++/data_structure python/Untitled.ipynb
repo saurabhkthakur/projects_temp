{
 "cells": [
  {
   "cell_type": "markdown",
   "id": "12a8fdb9",
   "metadata": {},
   "source": [
    "##### Linked list"
   ]
  },
  {
   "cell_type": "code",
   "execution_count": 2,
   "id": "4f4bb8c9",
   "metadata": {},
   "outputs": [
    {
     "name": "stdout",
     "output_type": "stream",
     "text": [
      "<class '__main__.Node'> 3 <__main__.Node object at 0x000001CF0798A588> 4\n"
     ]
    }
   ],
   "source": [
    "class Node:\n",
    "    \n",
    "    def __init__(self,data):\n",
    "        self.data = data\n",
    "        self.next = None\n",
    "        \n",
    "        \n",
    "a = Node(3)\n",
    "b = Node(4)\n",
    "a.next = b\n",
    "print(type(a), a.data, a.next, a.next.data)"
   ]
  },
  {
   "cell_type": "code",
   "execution_count": null,
   "id": "8ce0b92f",
   "metadata": {},
   "outputs": [],
   "source": []
  },
  {
   "cell_type": "code",
   "execution_count": null,
   "id": "69fc932e",
   "metadata": {},
   "outputs": [],
   "source": []
  },
  {
   "cell_type": "code",
   "execution_count": 6,
   "id": "21fc0c23",
   "metadata": {},
   "outputs": [
    {
     "name": "stdout",
     "output_type": "stream",
     "text": [
      "3\n",
      "4\n",
      "5\n"
     ]
    }
   ],
   "source": [
    "def printLL(headnode):\n",
    "    temp = headnode\n",
    "    while(temp!=None):\n",
    "        print(temp.data)\n",
    "        temp = temp.next\n",
    "\n",
    "a = Node(3)\n",
    "b = Node(4)\n",
    "c= Node(5)\n",
    "a.next = b\n",
    "b.next = c\n",
    "printLL(a)"
   ]
  },
  {
   "cell_type": "markdown",
   "id": "e1bdbb78",
   "metadata": {},
   "source": [
    "# connect node not manually brute force"
   ]
  },
  {
   "cell_type": "code",
   "execution_count": 17,
   "id": "78f96735",
   "metadata": {},
   "outputs": [],
   "source": [
    "def takeinput():\n",
    "    inputList = [int(ele) for ele in input().split()]\n",
    "    head =None\n",
    "    \n",
    "    for data in inputList:\n",
    "        if data ==-1:\n",
    "            break\n",
    "            \n",
    "        newnode = Node(data)\n",
    "        if head == None:\n",
    "            head = newnode\n",
    "        \n",
    "        else:\n",
    "            temp = head\n",
    "            while(temp.next!=None):\n",
    "                temp = temp.next\n",
    "            temp.next = newnode\n",
    "    return head\n",
    "          "
   ]
  },
  {
   "cell_type": "markdown",
   "id": "0b465f6d",
   "metadata": {},
   "source": [
    "# connect node not manually brute force"
   ]
  },
  {
   "cell_type": "code",
   "execution_count": 19,
   "id": "cf1d4c5e",
   "metadata": {},
   "outputs": [],
   "source": [
    "def takeinputbetter():\n",
    "    inputList = [int(ele) for ele in input().split()]\n",
    "    head =None\n",
    "    tail=None\n",
    "    \n",
    "    for data in inputList:\n",
    "        if data ==-1:\n",
    "            break\n",
    "            \n",
    "        newnode = Node(data)\n",
    "        if head == None:\n",
    "            head = newnode\n",
    "            tail=newnode\n",
    "        \n",
    "        else:\n",
    "\n",
    "            tail.next = newnode\n",
    "            tail = tail.next\n",
    "    return head"
   ]
  },
  {
   "cell_type": "code",
   "execution_count": 20,
   "id": "a3a5cf52",
   "metadata": {},
   "outputs": [
    {
     "name": "stdout",
     "output_type": "stream",
     "text": [
      "2 3 4 5 6 6 -1\n",
      "2\n",
      "3\n",
      "4\n",
      "5\n",
      "6\n",
      "6\n"
     ]
    }
   ],
   "source": [
    "head = takeinputbetter()\n",
    "printLL(head)"
   ]
  },
  {
   "cell_type": "markdown",
   "id": "f686c150",
   "metadata": {},
   "source": [
    "### "
   ]
  }
 ],
 "metadata": {
  "kernelspec": {
   "display_name": "Python 3",
   "language": "python",
   "name": "python3"
  },
  "language_info": {
   "codemirror_mode": {
    "name": "ipython",
    "version": 3
   },
   "file_extension": ".py",
   "mimetype": "text/x-python",
   "name": "python",
   "nbconvert_exporter": "python",
   "pygments_lexer": "ipython3",
   "version": "3.7.4"
  }
 },
 "nbformat": 4,
 "nbformat_minor": 5
}
